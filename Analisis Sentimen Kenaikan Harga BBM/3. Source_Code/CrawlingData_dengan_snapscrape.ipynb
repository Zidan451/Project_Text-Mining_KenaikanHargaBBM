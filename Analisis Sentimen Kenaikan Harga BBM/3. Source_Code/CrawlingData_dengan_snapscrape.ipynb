{
  "cells": [
    {
      "cell_type": "markdown",
      "source": [
        "# **Import Library**"
      ],
      "metadata": {
        "id": "3Q5gF_PF-di2"
      },
      "id": "3Q5gF_PF-di2"
    },
    {
      "cell_type": "code",
      "execution_count": null,
      "id": "12e76534",
      "metadata": {
        "colab": {
          "base_uri": "https://localhost:8080/"
        },
        "id": "12e76534",
        "outputId": "bbf78750-21e4-401f-e8bd-5f3843e85402"
      },
      "outputs": [
        {
          "output_type": "stream",
          "name": "stdout",
          "text": [
            "Looking in indexes: https://pypi.org/simple, https://us-python.pkg.dev/colab-wheels/public/simple/\n",
            "Collecting snscrape\n",
            "  Downloading snscrape-0.3.4-py3-none-any.whl (35 kB)\n",
            "Requirement already satisfied: beautifulsoup4 in /usr/local/lib/python3.7/dist-packages (from snscrape) (4.6.3)\n",
            "Requirement already satisfied: requests[socks] in /usr/local/lib/python3.7/dist-packages (from snscrape) (2.23.0)\n",
            "Requirement already satisfied: lxml in /usr/local/lib/python3.7/dist-packages (from snscrape) (4.9.1)\n",
            "Requirement already satisfied: chardet<4,>=3.0.2 in /usr/local/lib/python3.7/dist-packages (from requests[socks]->snscrape) (3.0.4)\n",
            "Requirement already satisfied: certifi>=2017.4.17 in /usr/local/lib/python3.7/dist-packages (from requests[socks]->snscrape) (2022.9.24)\n",
            "Requirement already satisfied: urllib3!=1.25.0,!=1.25.1,<1.26,>=1.21.1 in /usr/local/lib/python3.7/dist-packages (from requests[socks]->snscrape) (1.24.3)\n",
            "Requirement already satisfied: idna<3,>=2.5 in /usr/local/lib/python3.7/dist-packages (from requests[socks]->snscrape) (2.10)\n",
            "Requirement already satisfied: PySocks!=1.5.7,>=1.5.6 in /usr/local/lib/python3.7/dist-packages (from requests[socks]->snscrape) (1.7.1)\n",
            "Installing collected packages: snscrape\n",
            "Successfully installed snscrape-0.3.4\n"
          ]
        }
      ],
      "source": [
        "pip install snscrape"
      ]
    },
    {
      "cell_type": "code",
      "source": [
        "import snscrape.modules.twitter as sntwitter\n",
        "import pandas as pd\n",
        "import csv"
      ],
      "metadata": {
        "id": "gRbk82-553ZP"
      },
      "id": "gRbk82-553ZP",
      "execution_count": null,
      "outputs": []
    },
    {
      "cell_type": "markdown",
      "source": [
        "# **Tahapan Crawling Data**\n"
      ],
      "metadata": {
        "id": "VuvYZYkf_amu"
      },
      "id": "VuvYZYkf_amu"
    },
    {
      "cell_type": "code",
      "execution_count": null,
      "id": "759ac9bc",
      "metadata": {
        "colab": {
          "base_uri": "https://localhost:8080/"
        },
        "id": "759ac9bc",
        "outputId": "7f4f3327-36b9-401d-c6e6-aa5687972458"
      },
      "outputs": [
        {
          "output_type": "stream",
          "name": "stdout",
          "text": [
            "CPU times: user 4 µs, sys: 1 µs, total: 5 µs\n",
            "Wall time: 9.06 µs\n",
            "Star crawling\n",
            "Finished\n",
            "--------\n"
          ]
        }
      ],
      "source": [
        "query=\"Harga BBM (BBM) lang:id until:2022-09-10 since:2022-09-03\"\n",
        "tweets=[]\n",
        "limit=1500\n",
        "%time\n",
        "try:\n",
        "    print(\"Star crawling\")\n",
        "    for tweet in sntwitter.TwitterSearchScraper(query=query).get_items():\n",
        "        if len(tweets)==limit:\n",
        "            break\n",
        "        else:\n",
        "            tweets.append([tweet.username, tweet.content])\n",
        "        df=pd.DataFrame(tweets,columns=['username','content'])\n",
        "\n",
        "except Exception as e:\n",
        "    print(e)\n",
        "\n",
        "print(\"Finished\")\n",
        "print(\"--------\")"
      ]
    },
    {
      "cell_type": "markdown",
      "source": [
        "# **Menyimpan Data Ke CSV**\n",
        "\n",
        "\n"
      ],
      "metadata": {
        "id": "js0c0BK-_O7m"
      },
      "id": "js0c0BK-_O7m"
    },
    {
      "cell_type": "code",
      "execution_count": null,
      "id": "e72267e9",
      "metadata": {
        "id": "e72267e9"
      },
      "outputs": [],
      "source": [
        "df.to_csv(\"Data_Kotor_HargaBBM.csv\",index=False)"
      ]
    },
    {
      "cell_type": "markdown",
      "source": [
        "# **Menampilkan Data yang Telah di Ambil**"
      ],
      "metadata": {
        "id": "67gEKSiS_1mK"
      },
      "id": "67gEKSiS_1mK"
    },
    {
      "cell_type": "code",
      "execution_count": null,
      "id": "1528df66",
      "metadata": {
        "colab": {
          "base_uri": "https://localhost:8080/",
          "height": 424
        },
        "id": "1528df66",
        "outputId": "c7b16c98-9402-4c88-cc76-db1198b53515"
      },
      "outputs": [
        {
          "output_type": "execute_result",
          "data": {
            "text/plain": [
              "             username                                            content\n",
              "0         GhiffariDKI  Kami mendengar dan merasa jeritanmu Tapi nga p...\n",
              "1      Darwan45537622  @OposisiCerdas Hanya Peduli  Proyek Kereta Cep...\n",
              "2       Thavit_Amoura  BEM DAN GERAM GELAR DEMO PENOLAKAN KENAIKAN HA...\n",
              "3              Irfqn_  Kebijakan ini tentu menguntungkan korporat dan...\n",
              "4              Irfqn_  Karena itu, diduga kuat pencabutan subsidi BBM...\n",
              "...               ...                                                ...\n",
              "1495       tribunnews  Harga BBM Jenis Pertalite Bisa Turun, Menteri ...\n",
              "1496         geloraco  Tolak Kenaikan Harga BBM, FPI, PA 212, dan GNP...\n",
              "1497  FaridAk48259471  Dua kelompok mahasiswa bentrok di tengah aksi ...\n",
              "1498  SetiabudiPolsek  Guna meringankan beban serta melindungi daya b...\n",
              "1499        medcom_id  BI: Kenaikan Harga BBM dan Telur Kerek Inflasi...\n",
              "\n",
              "[1500 rows x 2 columns]"
            ],
            "text/html": [
              "\n",
              "  <div id=\"df-10f8fd81-645b-4993-ad00-9d5435526789\">\n",
              "    <div class=\"colab-df-container\">\n",
              "      <div>\n",
              "<style scoped>\n",
              "    .dataframe tbody tr th:only-of-type {\n",
              "        vertical-align: middle;\n",
              "    }\n",
              "\n",
              "    .dataframe tbody tr th {\n",
              "        vertical-align: top;\n",
              "    }\n",
              "\n",
              "    .dataframe thead th {\n",
              "        text-align: right;\n",
              "    }\n",
              "</style>\n",
              "<table border=\"1\" class=\"dataframe\">\n",
              "  <thead>\n",
              "    <tr style=\"text-align: right;\">\n",
              "      <th></th>\n",
              "      <th>username</th>\n",
              "      <th>content</th>\n",
              "    </tr>\n",
              "  </thead>\n",
              "  <tbody>\n",
              "    <tr>\n",
              "      <th>0</th>\n",
              "      <td>GhiffariDKI</td>\n",
              "      <td>Kami mendengar dan merasa jeritanmu Tapi nga p...</td>\n",
              "    </tr>\n",
              "    <tr>\n",
              "      <th>1</th>\n",
              "      <td>Darwan45537622</td>\n",
              "      <td>@OposisiCerdas Hanya Peduli  Proyek Kereta Cep...</td>\n",
              "    </tr>\n",
              "    <tr>\n",
              "      <th>2</th>\n",
              "      <td>Thavit_Amoura</td>\n",
              "      <td>BEM DAN GERAM GELAR DEMO PENOLAKAN KENAIKAN HA...</td>\n",
              "    </tr>\n",
              "    <tr>\n",
              "      <th>3</th>\n",
              "      <td>Irfqn_</td>\n",
              "      <td>Kebijakan ini tentu menguntungkan korporat dan...</td>\n",
              "    </tr>\n",
              "    <tr>\n",
              "      <th>4</th>\n",
              "      <td>Irfqn_</td>\n",
              "      <td>Karena itu, diduga kuat pencabutan subsidi BBM...</td>\n",
              "    </tr>\n",
              "    <tr>\n",
              "      <th>...</th>\n",
              "      <td>...</td>\n",
              "      <td>...</td>\n",
              "    </tr>\n",
              "    <tr>\n",
              "      <th>1495</th>\n",
              "      <td>tribunnews</td>\n",
              "      <td>Harga BBM Jenis Pertalite Bisa Turun, Menteri ...</td>\n",
              "    </tr>\n",
              "    <tr>\n",
              "      <th>1496</th>\n",
              "      <td>geloraco</td>\n",
              "      <td>Tolak Kenaikan Harga BBM, FPI, PA 212, dan GNP...</td>\n",
              "    </tr>\n",
              "    <tr>\n",
              "      <th>1497</th>\n",
              "      <td>FaridAk48259471</td>\n",
              "      <td>Dua kelompok mahasiswa bentrok di tengah aksi ...</td>\n",
              "    </tr>\n",
              "    <tr>\n",
              "      <th>1498</th>\n",
              "      <td>SetiabudiPolsek</td>\n",
              "      <td>Guna meringankan beban serta melindungi daya b...</td>\n",
              "    </tr>\n",
              "    <tr>\n",
              "      <th>1499</th>\n",
              "      <td>medcom_id</td>\n",
              "      <td>BI: Kenaikan Harga BBM dan Telur Kerek Inflasi...</td>\n",
              "    </tr>\n",
              "  </tbody>\n",
              "</table>\n",
              "<p>1500 rows × 2 columns</p>\n",
              "</div>\n",
              "      <button class=\"colab-df-convert\" onclick=\"convertToInteractive('df-10f8fd81-645b-4993-ad00-9d5435526789')\"\n",
              "              title=\"Convert this dataframe to an interactive table.\"\n",
              "              style=\"display:none;\">\n",
              "        \n",
              "  <svg xmlns=\"http://www.w3.org/2000/svg\" height=\"24px\"viewBox=\"0 0 24 24\"\n",
              "       width=\"24px\">\n",
              "    <path d=\"M0 0h24v24H0V0z\" fill=\"none\"/>\n",
              "    <path d=\"M18.56 5.44l.94 2.06.94-2.06 2.06-.94-2.06-.94-.94-2.06-.94 2.06-2.06.94zm-11 1L8.5 8.5l.94-2.06 2.06-.94-2.06-.94L8.5 2.5l-.94 2.06-2.06.94zm10 10l.94 2.06.94-2.06 2.06-.94-2.06-.94-.94-2.06-.94 2.06-2.06.94z\"/><path d=\"M17.41 7.96l-1.37-1.37c-.4-.4-.92-.59-1.43-.59-.52 0-1.04.2-1.43.59L10.3 9.45l-7.72 7.72c-.78.78-.78 2.05 0 2.83L4 21.41c.39.39.9.59 1.41.59.51 0 1.02-.2 1.41-.59l7.78-7.78 2.81-2.81c.8-.78.8-2.07 0-2.86zM5.41 20L4 18.59l7.72-7.72 1.47 1.35L5.41 20z\"/>\n",
              "  </svg>\n",
              "      </button>\n",
              "      \n",
              "  <style>\n",
              "    .colab-df-container {\n",
              "      display:flex;\n",
              "      flex-wrap:wrap;\n",
              "      gap: 12px;\n",
              "    }\n",
              "\n",
              "    .colab-df-convert {\n",
              "      background-color: #E8F0FE;\n",
              "      border: none;\n",
              "      border-radius: 50%;\n",
              "      cursor: pointer;\n",
              "      display: none;\n",
              "      fill: #1967D2;\n",
              "      height: 32px;\n",
              "      padding: 0 0 0 0;\n",
              "      width: 32px;\n",
              "    }\n",
              "\n",
              "    .colab-df-convert:hover {\n",
              "      background-color: #E2EBFA;\n",
              "      box-shadow: 0px 1px 2px rgba(60, 64, 67, 0.3), 0px 1px 3px 1px rgba(60, 64, 67, 0.15);\n",
              "      fill: #174EA6;\n",
              "    }\n",
              "\n",
              "    [theme=dark] .colab-df-convert {\n",
              "      background-color: #3B4455;\n",
              "      fill: #D2E3FC;\n",
              "    }\n",
              "\n",
              "    [theme=dark] .colab-df-convert:hover {\n",
              "      background-color: #434B5C;\n",
              "      box-shadow: 0px 1px 3px 1px rgba(0, 0, 0, 0.15);\n",
              "      filter: drop-shadow(0px 1px 2px rgba(0, 0, 0, 0.3));\n",
              "      fill: #FFFFFF;\n",
              "    }\n",
              "  </style>\n",
              "\n",
              "      <script>\n",
              "        const buttonEl =\n",
              "          document.querySelector('#df-10f8fd81-645b-4993-ad00-9d5435526789 button.colab-df-convert');\n",
              "        buttonEl.style.display =\n",
              "          google.colab.kernel.accessAllowed ? 'block' : 'none';\n",
              "\n",
              "        async function convertToInteractive(key) {\n",
              "          const element = document.querySelector('#df-10f8fd81-645b-4993-ad00-9d5435526789');\n",
              "          const dataTable =\n",
              "            await google.colab.kernel.invokeFunction('convertToInteractive',\n",
              "                                                     [key], {});\n",
              "          if (!dataTable) return;\n",
              "\n",
              "          const docLinkHtml = 'Like what you see? Visit the ' +\n",
              "            '<a target=\"_blank\" href=https://colab.research.google.com/notebooks/data_table.ipynb>data table notebook</a>'\n",
              "            + ' to learn more about interactive tables.';\n",
              "          element.innerHTML = '';\n",
              "          dataTable['output_type'] = 'display_data';\n",
              "          await google.colab.output.renderOutput(dataTable, element);\n",
              "          const docLink = document.createElement('div');\n",
              "          docLink.innerHTML = docLinkHtml;\n",
              "          element.appendChild(docLink);\n",
              "        }\n",
              "      </script>\n",
              "    </div>\n",
              "  </div>\n",
              "  "
            ]
          },
          "metadata": {},
          "execution_count": 6
        }
      ],
      "source": [
        "df"
      ]
    }
  ],
  "metadata": {
    "kernelspec": {
      "display_name": "Python 3 (ipykernel)",
      "language": "python",
      "name": "python3"
    },
    "language_info": {
      "codemirror_mode": {
        "name": "ipython",
        "version": 3
      },
      "file_extension": ".py",
      "mimetype": "text/x-python",
      "name": "python",
      "nbconvert_exporter": "python",
      "pygments_lexer": "ipython3",
      "version": "3.10.6"
    },
    "colab": {
      "provenance": []
    }
  },
  "nbformat": 4,
  "nbformat_minor": 5
}